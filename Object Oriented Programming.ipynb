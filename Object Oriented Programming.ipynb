{
 "cells": [
  {
   "attachments": {},
   "cell_type": "markdown",
   "metadata": {},
   "source": [
    "[Object-oriented Python](https://store.lerner.co.il/view/courses/object-oriented-python) - Rueben Lerner"
   ]
  },
  {
   "attachments": {},
   "cell_type": "markdown",
   "metadata": {},
   "source": [
    "## Section 1: Introduction to Object Oriented Programming\n",
    "\n",
    "[Alan Kay](https://en.wikipedia.org/wiki/Alan_Kay) pioneer on object-oriented programming, and the inventor of the term \"object-oriented\", which he defined as \"messaging\" between objects. He also invented the term \"personal computer\" and the concept of the computer mouse. \n",
    "\n",
    "He created [Small Talk](https://en.wikipedia.org/wiki/Smalltalk) in 1972, which was the first object-oriented programming language.\n",
    "\n",
    "Everything in Python is an object, except for the keywords.\n"
   ]
  },
  {
   "attachments": {},
   "cell_type": "markdown",
   "metadata": {},
   "source": [
    "## Section 2: Defining a Class\n",
    "\n"
   ]
  },
  {
   "attachments": {},
   "cell_type": "markdown",
   "metadata": {},
   "source": [
    "### What are Python objects?\n",
    "Exploring the objects that are already in Python."
   ]
  },
  {
   "cell_type": "code",
   "execution_count": 5,
   "metadata": {},
   "outputs": [],
   "source": [
    "# Everything is an object means\n",
    "# 1. everything has a type/class\n",
    "# 2. everything has attributes\n"
   ]
  },
  {
   "cell_type": "code",
   "execution_count": 12,
   "metadata": {},
   "outputs": [
    {
     "data": {
      "text/plain": [
       "int"
      ]
     },
     "execution_count": 12,
     "metadata": {},
     "output_type": "execute_result"
    }
   ],
   "source": [
    "# We can use types and classes interchangeably in Python\n",
    "\n",
    "# Types are built-in classes\n",
    "# Type examples: int, float, str, list, dict, tuple, set, bool, NoneType\n",
    "\n",
    "# Note: Variables don't have types, but the objects they point to do\n",
    "\n",
    "x = 100\n",
    "type(x) # int\n",
    "\n"
   ]
  },
  {
   "cell_type": "code",
   "execution_count": 13,
   "metadata": {},
   "outputs": [
    {
     "data": {
      "text/plain": [
       "str"
      ]
     },
     "execution_count": 13,
     "metadata": {},
     "output_type": "execute_result"
    }
   ],
   "source": [
    "x = 'abcd'\n",
    "type(x) # str"
   ]
  },
  {
   "cell_type": "code",
   "execution_count": 14,
   "metadata": {},
   "outputs": [
    {
     "data": {
      "text/plain": [
       "list"
      ]
     },
     "execution_count": 14,
     "metadata": {},
     "output_type": "execute_result"
    }
   ],
   "source": [
    "x = [10,20,30]\n",
    "type(x) # list"
   ]
  }
 ],
 "metadata": {
  "kernelspec": {
   "display_name": "Python 3",
   "language": "python",
   "name": "python3"
  },
  "language_info": {
   "codemirror_mode": {
    "name": "ipython",
    "version": 3
   },
   "file_extension": ".py",
   "mimetype": "text/x-python",
   "name": "python",
   "nbconvert_exporter": "python",
   "pygments_lexer": "ipython3",
   "version": "3.11.1"
  },
  "orig_nbformat": 4,
  "vscode": {
   "interpreter": {
    "hash": "fc7236951f657466e312c8b8b9271db0d3d9248e4251a7079ecb67b789ebf4d6"
   }
  }
 },
 "nbformat": 4,
 "nbformat_minor": 2
}
