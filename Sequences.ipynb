{
 "cells": [
  {
   "attachments": {},
   "cell_type": "markdown",
   "metadata": {},
   "source": [
    "Sequences are a special type of iterable that can be indexed using square brackets ([...]) to get items by their position. You can also ask sequences for their length to see how many things are inside them.\n",
    "\n",
    "A sequence is an ordered collection. They maintain the order of the things in them\n",
    "\n",
    "See [Python Terminology - All Terms ](https://www.pythonmorsels.com/terms/)\n",
    "\n",
    "See [Python Glossay - Sequence](https://docs.python.org/3/glossary.html#term-sequence)"
   ]
  },
  {
   "attachments": {},
   "cell_type": "markdown",
   "metadata": {},
   "source": [
    "The operations below work on all sequences, including strings, lists, tuples, and other sequences"
   ]
  },
  {
   "cell_type": "code",
   "execution_count": null,
   "metadata": {},
   "outputs": [],
   "source": [
    "sequence = [1, 2, 3, 4, 5] #For example purposes we will use a list, but this can be any sequence"
   ]
  },
  {
   "attachments": {},
   "cell_type": "markdown",
   "metadata": {},
   "source": [
    "### Indexing"
   ]
  },
  {
   "cell_type": "code",
   "execution_count": null,
   "metadata": {},
   "outputs": [],
   "source": [
    "first_item = sequence[0] #The first item in a sequence is at index 0\n",
    "last_item=sequence[-1] # The last item in a sequence is at index -1, -2 is the second to last item, etc.\n",
    "print(first_item)\n",
    "print(last_item)"
   ]
  },
  {
   "attachments": {},
   "cell_type": "markdown",
   "metadata": {},
   "source": [
    "### Slicing\n"
   ]
  },
  {
   "cell_type": "code",
   "execution_count": null,
   "metadata": {},
   "outputs": [],
   "source": [
    "n = 2 # Number of items to take"
   ]
  },
  {
   "attachments": {},
   "cell_type": "markdown",
   "metadata": {},
   "source": [
    "#### Sequence Slicing Syntax"
   ]
  },
  {
   "cell_type": "code",
   "execution_count": null,
   "metadata": {},
   "outputs": [],
   "source": [
    "first_n_items = sequence[:n] # The first n items in a sequence are at index 0 to n-1\n",
    "last_n_items = sequence[-n:] # The last n items in a sequence are at index -n to -1\n",
    "print(first_n_items)\n",
    "print(last_n_items)\n",
    "\n",
    "# Which is the same as:\n",
    "first_n_items = sequence[0:n]\n",
    "last_n_items = sequence[-n:len(sequence)]\n",
    "print()\n",
    "print(first_n_items)\n",
    "print(last_n_items)\n",
    "\n"
   ]
  },
  {
   "attachments": {},
   "cell_type": "markdown",
   "metadata": {},
   "source": [
    "#### Extended iterable unpacking"
   ]
  },
  {
   "cell_type": "code",
   "execution_count": null,
   "metadata": {},
   "outputs": [],
   "source": [
    "first_item, *middle_items, last_item = sequence # The first item is at index 0, the last item is at index -1, and the middle items are at index 1 to -2\n",
    "print()\n",
    "print(first_item)\n",
    "print(middle_items)\n",
    "print(last_item)"
   ]
  },
  {
   "attachments": {},
   "cell_type": "markdown",
   "metadata": {},
   "source": [
    "#### More Slicing"
   ]
  },
  {
   "cell_type": "code",
   "execution_count": null,
   "metadata": {},
   "outputs": [],
   "source": [
    "middle_items = sequence[1:-1] # The middle items are at index 1 to -2\n",
    "in_reverse = sequence[::-1] # The items in reverse are at index -1 to -len(sequence)\n",
    "print(middle_items)\n",
    "print(in_reverse)\n"
   ]
  },
  {
   "attachments": {},
   "cell_type": "markdown",
   "metadata": {},
   "source": [
    "### Lazy Looping"
   ]
  },
  {
   "cell_type": "code",
   "execution_count": null,
   "metadata": {},
   "outputs": [],
   "source": [
    "lazily_reversed = reversed(sequence) # Lazily reversed is a generator that yields the items in reverse using the __reversed__ method\n",
    "print(list(lazily_reversed))\n",
    "print()\n",
    "\n",
    "# The return value of reversed is a generator, so it can only be iterated over once\n",
    "colors = [\"pink\", \"blue\", \"purple\"]\n",
    "reverse_colors = reversed(colors)\n",
    "print(reverse_colors)\n",
    "print(list(reverse_colors))\n",
    "print(list(reverse_colors)) # This will be empty because the generator has already been exhausted\n"
   ]
  },
  {
   "attachments": {},
   "cell_type": "markdown",
   "metadata": {},
   "source": [
    "The reversed function accepts any reversible iterable: that includes sequences but also dictionaries and certain other reversible iterables."
   ]
  },
  {
   "cell_type": "code",
   "execution_count": null,
   "metadata": {},
   "outputs": [],
   "source": [
    "# Most of the time we're reversing we do it for the sake of looping in reverse\n",
    "for color in reversed(colors):\n",
    "    print(color)"
   ]
  },
  {
   "attachments": {},
   "cell_type": "markdown",
   "metadata": {},
   "source": [
    "The reversed function has two benefits over slicing:\n",
    "\n",
    "1. It's more readable: reversed(colors) says what it does while colors[::-1] looks sort of funny\n",
    "2. It doesn't build up a new list: instead it lazily retrieves the next item (in reverse) as you loop over it\n"
   ]
  },
  {
   "attachments": {},
   "cell_type": "markdown",
   "metadata": {},
   "source": [
    "### Additional Sequence Operations\n",
    "\n",
    "The above operation aren't everything you can do with sequences.\n",
    "\n",
    "All the various iterable helper utilities also work on sequences (e.g. enumerate and zip).\n",
    "\n",
    "And the built-in sorted, min, and max functions work on all iterables that have orderable items (meaning comparable with the < operator).\n",
    "\n",
    "Any function that works on an iterable will also work on a sequence because all sequences are iterables. \n"
   ]
  }
 ],
 "metadata": {
  "kernelspec": {
   "display_name": "Python 3",
   "language": "python",
   "name": "python3"
  },
  "language_info": {
   "codemirror_mode": {
    "name": "ipython",
    "version": 3
   },
   "file_extension": ".py",
   "mimetype": "text/x-python",
   "name": "python",
   "nbconvert_exporter": "python",
   "pygments_lexer": "ipython3",
   "version": "3.11.1"
  },
  "orig_nbformat": 4,
  "vscode": {
   "interpreter": {
    "hash": "fc7236951f657466e312c8b8b9271db0d3d9248e4251a7079ecb67b789ebf4d6"
   }
  }
 },
 "nbformat": 4,
 "nbformat_minor": 2
}
