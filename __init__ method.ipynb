{
 "cells": [
  {
   "cell_type": "markdown",
   "id": "6fe4f122",
   "metadata": {},
   "source": [
    "# What does __init_ Method do?"
   ]
  },
  {
   "cell_type": "markdown",
   "id": "2796fdcf",
   "metadata": {},
   "source": [
    "https://www.youtube.com/watch?v=mNpCPgdb2Jg&t=12s"
   ]
  },
  {
   "cell_type": "code",
   "execution_count": 1,
   "id": "22350fa5",
   "metadata": {},
   "outputs": [],
   "source": [
    "class MyClass:\n",
    "    pass"
   ]
  },
  {
   "cell_type": "code",
   "execution_count": 2,
   "id": "4677e68c",
   "metadata": {},
   "outputs": [],
   "source": [
    "o1 = MyClass()\n",
    "o2 = MyClass()"
   ]
  },
  {
   "cell_type": "code",
   "execution_count": 3,
   "id": "7935622e",
   "metadata": {},
   "outputs": [
    {
     "data": {
      "text/plain": [
       "__main__.MyClass"
      ]
     },
     "execution_count": 3,
     "metadata": {},
     "output_type": "execute_result"
    }
   ],
   "source": [
    "type(o1)"
   ]
  },
  {
   "cell_type": "code",
   "execution_count": 4,
   "id": "b6a503ad",
   "metadata": {},
   "outputs": [
    {
     "data": {
      "text/plain": [
       "__main__.MyClass"
      ]
     },
     "execution_count": 4,
     "metadata": {},
     "output_type": "execute_result"
    }
   ],
   "source": [
    "type(o2)"
   ]
  },
  {
   "cell_type": "code",
   "execution_count": 5,
   "id": "9b852b55",
   "metadata": {},
   "outputs": [],
   "source": [
    "o1.x = 10\n",
    "o1.y = [10,20,30]\n"
   ]
  },
  {
   "cell_type": "code",
   "execution_count": 6,
   "id": "d9622215",
   "metadata": {},
   "outputs": [
    {
     "data": {
      "text/plain": [
       "{'x': 10, 'y': [10, 20, 30]}"
      ]
     },
     "execution_count": 6,
     "metadata": {},
     "output_type": "execute_result"
    }
   ],
   "source": [
    "vars(o1)"
   ]
  },
  {
   "cell_type": "code",
   "execution_count": 7,
   "id": "86f9cd72",
   "metadata": {},
   "outputs": [
    {
     "data": {
      "text/plain": [
       "{}"
      ]
     },
     "execution_count": 7,
     "metadata": {},
     "output_type": "execute_result"
    }
   ],
   "source": [
    "vars(o2)"
   ]
  },
  {
   "cell_type": "code",
   "execution_count": 8,
   "id": "5a2fc1a4",
   "metadata": {},
   "outputs": [],
   "source": [
    "o2.a = {1,2,3,4}\n",
    "o2.b = {'a':1,'b':2,'c':3}"
   ]
  },
  {
   "cell_type": "code",
   "execution_count": 9,
   "id": "0b4ff360",
   "metadata": {},
   "outputs": [
    {
     "data": {
      "text/plain": [
       "{'a': {1, 2, 3, 4}, 'b': {'a': 1, 'b': 2, 'c': 3}}"
      ]
     },
     "execution_count": 9,
     "metadata": {},
     "output_type": "execute_result"
    }
   ],
   "source": [
    "vars(o2)"
   ]
  },
  {
   "cell_type": "code",
   "execution_count": 10,
   "id": "75de99ce",
   "metadata": {},
   "outputs": [],
   "source": [
    "class MyClass:\n",
    "    def __init__(self,x,y):\n",
    "        print(f'Now running MyClass._init_, with {x=} and {y=}')\n",
    "        self.x = x\n",
    "        self.y = y\n",
    "        "
   ]
  },
  {
   "cell_type": "code",
   "execution_count": 11,
   "id": "ad2bd648",
   "metadata": {},
   "outputs": [
    {
     "name": "stdout",
     "output_type": "stream",
     "text": [
      "Now running MyClass._init_, with x=10 and y=20\n"
     ]
    }
   ],
   "source": [
    "o1 = MyClass(10,20)"
   ]
  },
  {
   "cell_type": "code",
   "execution_count": 12,
   "id": "3321e263",
   "metadata": {},
   "outputs": [
    {
     "data": {
      "text/plain": [
       "{'x': 10, 'y': 20}"
      ]
     },
     "execution_count": 12,
     "metadata": {},
     "output_type": "execute_result"
    }
   ],
   "source": [
    "vars(o1)"
   ]
  },
  {
   "cell_type": "code",
   "execution_count": 13,
   "id": "1ef8b977",
   "metadata": {},
   "outputs": [
    {
     "name": "stdout",
     "output_type": "stream",
     "text": [
      "Now running MyClass._init_, with x={1, 2, 3, 4, 5} and y={'a': 1, 'b': 2}\n"
     ]
    }
   ],
   "source": [
    "o2 = MyClass({1,2,3,4,5}, {'a':1, 'b':2})"
   ]
  },
  {
   "cell_type": "code",
   "execution_count": 14,
   "id": "fe379c25",
   "metadata": {},
   "outputs": [
    {
     "data": {
      "text/plain": [
       "{'x': {1, 2, 3, 4, 5}, 'y': {'a': 1, 'b': 2}}"
      ]
     },
     "execution_count": 14,
     "metadata": {},
     "output_type": "execute_result"
    }
   ],
   "source": [
    "vars(o2)"
   ]
  },
  {
   "cell_type": "code",
   "execution_count": null,
   "id": "b0792234",
   "metadata": {},
   "outputs": [],
   "source": []
  },
  {
   "cell_type": "code",
   "execution_count": null,
   "id": "5ce27475",
   "metadata": {},
   "outputs": [],
   "source": []
  }
 ],
 "metadata": {
  "kernelspec": {
   "display_name": "Python 3",
   "language": "python",
   "name": "python3"
  },
  "language_info": {
   "codemirror_mode": {
    "name": "ipython",
    "version": 3
   },
   "file_extension": ".py",
   "mimetype": "text/x-python",
   "name": "python",
   "nbconvert_exporter": "python",
   "pygments_lexer": "ipython3",
   "version": "3.11.1"
  },
  "vscode": {
   "interpreter": {
    "hash": "fc7236951f657466e312c8b8b9271db0d3d9248e4251a7079ecb67b789ebf4d6"
   }
  }
 },
 "nbformat": 4,
 "nbformat_minor": 5
}
