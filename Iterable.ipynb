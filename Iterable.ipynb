{
 "cells": [
  {
   "attachments": {},
   "cell_type": "markdown",
   "metadata": {},
   "source": [
    "## Iterable Definition\n",
    "An iterable is an object that can return an iterator. An iterator is an object that represents a stream of data. This object can be traversed only once. It maintains a state and produces the next value when you call the next() method on it.\n",
    "\n",
    "\n",
    "\n"
   ]
  },
  {
   "attachments": {},
   "cell_type": "markdown",
   "metadata": {},
   "source": [
    "## Iteration Definition\n",
    "Iteration is the process of taking the elements from an iterable and executing a block of code for each element. In Python, this is implemented using the for loop. The for loop in Python takes an iterable and executes a block of code for each element in the iterable. The syntax of the for loop is as follows:\n",
    "\n",
    "``` python\n",
    "for element in iterable:\n",
    "    # do something with element\n",
    "\n",
    "The for loop in Python is syntactic sugar for the following code:\n",
    "\n",
    "# get an iterator from the iterable\n",
    "iterator = iter(iterable)\n",
    "while True:\n",
    "    try:\n",
    "        # get the next item\n",
    "        element = next(iterator)\n",
    "        # do something with element\n",
    "    except StopIteration:\n",
    "        # if StopIteration is raised, break from loop\n",
    "        break\n",
    "```\n"
   ]
  },
  {
   "attachments": {},
   "cell_type": "markdown",
   "metadata": {},
   "source": [
    "### Manual iteration using a for loop\n",
    "If you can write a for loop in Python to loop over something, that something is an iterable.\n",
    "\n",
    "Lists, tuples, sets, dictionaries, generators and files are all iterables. You can loop over them using a for loop.\n",
    "There are lots of other iterables in the Python, both built-in and included in third-party libraries."
   ]
  },
  {
   "cell_type": "code",
   "execution_count": null,
   "metadata": {},
   "outputs": [],
   "source": [
    "# Here's a list, tuple, string and a set which are all iterables:\n",
    "\n",
    "fruits = ['apple', 'lemon', 'pear', 'watermelon'] # list\n",
    "coordinates = (1, 8, 2) # tuple\n",
    "greeting = \"Hi y'all!\" # string\n",
    "colors = {'red', 'blue', 'yellow'} # set\n",
    "\n"
   ]
  },
  {
   "cell_type": "code",
   "execution_count": null,
   "metadata": {},
   "outputs": [],
   "source": [
    "# using a for loop to iterate over the list\n",
    "for fruit in fruits:\n",
    "    print(fruit)"
   ]
  },
  {
   "cell_type": "code",
   "execution_count": 4,
   "metadata": {},
   "outputs": [
    {
     "name": "stdout",
     "output_type": "stream",
     "text": [
      "[1, 8, 2]\n"
     ]
    }
   ],
   "source": [
    "# using a list constructor to create a list from the iterable tuple\n",
    "print(list(coordinates))"
   ]
  },
  {
   "cell_type": "code",
   "execution_count": 6,
   "metadata": {},
   "outputs": [
    {
     "name": "stdout",
     "output_type": "stream",
     "text": [
      "['H', 'i', ' ', 'y', \"'\", 'a', 'l', 'l', '!']\n"
     ]
    }
   ],
   "source": [
    "# using a list constructor to create a list from the iterable string\n",
    "print(list(greeting))"
   ]
  },
  {
   "cell_type": "code",
   "execution_count": 7,
   "metadata": {},
   "outputs": [
    {
     "name": "stdout",
     "output_type": "stream",
     "text": [
      "['red', 'yellow', 'blue']\n"
     ]
    }
   ],
   "source": [
    "# using a list constructor to create a list from the iterable set\n",
    "print(list(colors))"
   ]
  },
  {
   "attachments": {},
   "cell_type": "markdown",
   "metadata": {},
   "source": [
    "### Other ways to iterate over an iterable\n",
    "1. [List Comprehensions](https://www.pythonmorsels.com/terms/#comprehension)\n",
    "2. [Tuple unpacking](https://www.pythonmorsels.com/terms/#tuple-unpacking)\n",
    "3. [Using * operator in a function call](https://www.pythonmorsels.com/unpacking-iterables-function-arguments/)\n",
    "4. [Using * operator in a list](https://www.pythonmorsels.com/unpacking-iterables-iterables/)"
   ]
  },
  {
   "attachments": {},
   "cell_type": "markdown",
   "metadata": {},
   "source": [
    "## Additional Resources\n",
    "1. [Iterables and Iterators](https://www.pythonmorsels.com/iterables-and-iterators/)\n",
    "2. [How to make an Iterable](https://www.pythonmorsels.com/how-to-make-an-iterable/)"
   ]
  }
 ],
 "metadata": {
  "kernelspec": {
   "display_name": "Python 3",
   "language": "python",
   "name": "python3"
  },
  "language_info": {
   "codemirror_mode": {
    "name": "ipython",
    "version": 3
   },
   "file_extension": ".py",
   "mimetype": "text/x-python",
   "name": "python",
   "nbconvert_exporter": "python",
   "pygments_lexer": "ipython3",
   "version": "3.11.1"
  },
  "orig_nbformat": 4,
  "vscode": {
   "interpreter": {
    "hash": "fc7236951f657466e312c8b8b9271db0d3d9248e4251a7079ecb67b789ebf4d6"
   }
  }
 },
 "nbformat": 4,
 "nbformat_minor": 2
}
